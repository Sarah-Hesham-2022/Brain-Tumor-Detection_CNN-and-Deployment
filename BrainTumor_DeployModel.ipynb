{
  "nbformat": 4,
  "nbformat_minor": 0,
  "metadata": {
    "colab": {
      "provenance": [],
      "collapsed_sections": []
    },
    "kernelspec": {
      "name": "python3",
      "display_name": "Python 3"
    },
    "language_info": {
      "name": "python"
    }
  },
  "cells": [
    {
      "cell_type": "code",
      "execution_count": 1,
      "metadata": {
        "colab": {
          "base_uri": "https://localhost:8080/"
        },
        "id": "up4EKMFLvhG6",
        "outputId": "79287978-dafa-487d-9a65-965c90d7531c"
      },
      "outputs": [
        {
          "output_type": "stream",
          "name": "stdout",
          "text": [
            "Mounted at /content/drive\n"
          ]
        }
      ],
      "source": [
        "import keras\n",
        "from keras.models import *\n",
        "from keras.layers import *\n",
        "from keras.preprocessing import image\n",
        "import PIL\n",
        "from google.colab import drive\n",
        "drive.mount('/content/drive')\n",
        "from keras.models import load_model\n",
        "model=load_model(\"/content/drive/MyDrive/H5_Folders/BrainTumor_CNN.h5\")"
      ]
    },
    {
      "cell_type": "code",
      "source": [
        "import cv2\n",
        "from numpy import asarray\n",
        "img =cv2.imread(\"/content/sample_data/yes2.jfif\",0)\n",
        "img"
      ],
      "metadata": {
        "colab": {
          "base_uri": "https://localhost:8080/"
        },
        "id": "8xNh0X6dvysg",
        "outputId": "5616eec6-14fc-40f8-f2cb-10dd82110536"
      },
      "execution_count": 106,
      "outputs": [
        {
          "output_type": "execute_result",
          "data": {
            "text/plain": [
              "array([[0, 0, 0, ..., 0, 0, 0],\n",
              "       [0, 0, 0, ..., 0, 0, 0],\n",
              "       [0, 0, 0, ..., 0, 0, 0],\n",
              "       ...,\n",
              "       [0, 0, 0, ..., 0, 0, 0],\n",
              "       [0, 0, 0, ..., 0, 0, 0],\n",
              "       [0, 0, 0, ..., 0, 0, 0]], dtype=uint8)"
            ]
          },
          "metadata": {},
          "execution_count": 106
        }
      ]
    },
    {
      "cell_type": "code",
      "source": [
        "# importing cv2 \n",
        "import numpy as np\n",
        "img=cv2.resize(img, (100, 100)) \n",
        "img=np.array(img).astype(np.uint8)"
      ],
      "metadata": {
        "id": "PH0HaILiv1VV"
      },
      "execution_count": 107,
      "outputs": []
    },
    {
      "cell_type": "code",
      "source": [
        "img=image.img_to_array(img)\n",
        "img.shape"
      ],
      "metadata": {
        "colab": {
          "base_uri": "https://localhost:8080/"
        },
        "id": "aY6wfjopv34G",
        "outputId": "8a2aff63-0647-4b2c-96ec-b52d5ab305f1"
      },
      "execution_count": 108,
      "outputs": [
        {
          "output_type": "execute_result",
          "data": {
            "text/plain": [
              "(100, 100, 1)"
            ]
          },
          "metadata": {},
          "execution_count": 108
        }
      ]
    },
    {
      "cell_type": "code",
      "source": [
        "img=img/255.0\n",
        "img_expand=np.expand_dims(img,axis=0)#img.reshape(1,img.shape[0],img.shape[1],img.shape[2])\n",
        "img_expand.shape"
      ],
      "metadata": {
        "colab": {
          "base_uri": "https://localhost:8080/"
        },
        "id": "yeXhT1JKv5pl",
        "outputId": "50f7d5b1-af9b-453a-b1d8-9636574f01db"
      },
      "execution_count": 109,
      "outputs": [
        {
          "output_type": "execute_result",
          "data": {
            "text/plain": [
              "(1, 100, 100, 1)"
            ]
          },
          "metadata": {},
          "execution_count": 109
        }
      ]
    },
    {
      "cell_type": "code",
      "source": [
        "y_pred_img=model.predict(img_expand)\n",
        "print(y_pred_img)"
      ],
      "metadata": {
        "colab": {
          "base_uri": "https://localhost:8080/"
        },
        "id": "1CfPD2Cmv8W-",
        "outputId": "a37eb2fe-a729-467c-a696-3fb9ea806442"
      },
      "execution_count": 110,
      "outputs": [
        {
          "output_type": "stream",
          "name": "stdout",
          "text": [
            "[[0.9999844]]\n"
          ]
        }
      ]
    },
    {
      "cell_type": "code",
      "source": [
        "if(y_pred_img >=0.5):\n",
        "  print(\"Brain Tumor\")\n",
        "else:\n",
        "  print(\"No Brain Tumor\")"
      ],
      "metadata": {
        "colab": {
          "base_uri": "https://localhost:8080/"
        },
        "id": "e2Ns-h7iwbxw",
        "outputId": "6f485d32-4722-477e-c6da-57a1d11c8080"
      },
      "execution_count": 111,
      "outputs": [
        {
          "output_type": "stream",
          "name": "stdout",
          "text": [
            "Brain Tumor\n"
          ]
        }
      ]
    }
  ]
}